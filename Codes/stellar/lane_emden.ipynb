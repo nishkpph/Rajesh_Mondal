import numpy as np
import matplotlib.pyplot as plt
from scipy.integrate import trapezoid
from IPython.display import display, Math, Latex
import pandas as pd

# plt.rcParams.update({'font.size': 14})
# plt.rcParams['text.usetex'] = True

class LaneEmden():

    def __init__(self):
        #constants
        self.G = 6.67*10**(-8)
        self.M = 1.989*10**33
        self.R = 6.96*10**10
        self.den_ave = 1.41
        self.R_gas = 8.31*10**7

        self.h = 0.01


    #main function to use in RK4
    def f(self, r,x,n):
        y = r[0]
        z = r[1]
        fy = z
        fz = -2*z/x-y**n
        return np.array([fy,fz],dtype=float)

    def SOLVE(self, n, plot=False,**kwargs):
        r = np.array([1.0, 0.0])
        target = 0.00001
        xpoints = []
        ypoints = []
        x = 0.0001
        # for i in xpts:
        while r[0]>0:
        # while x<20:
            xpoints.append(x)
            ypoints.append(r[0])
            k1 = self.h*self.f(r,x,n)
            k2 = self.h*self.f(r+0.5*k1,x+0.5*self.h,n)
            k3 = self.h*self.f(r+0.5*k2,x+0.5*self.h,n)
            k4 = self.h*self.f(r+k3,x+self.h,n)
            r += (k1+2*k2+2*k3+k4)/6
            x += self.h
            if x>200 or (r[0]-0)<target:
            # if x>20: #or (r[0]-0)<target:
                break
        sol = np.empty([2,len(xpoints)])
        # sol = [xpoints, ypoints]
        sol[0] = xpoints
        sol[1] = ypoints

        if plot:
            plt.plot(xpoints, ypoints, **kwargs)#, label=fr'$n={n}$'
            plt.xlim(0,10)
            plt.ylim(0,1.01)
            plt.tick_params(direction="in", right=True, top=True)
            plt.xlabel(r'$\xi$')
            plt.ylabel(r'$\theta(\xi)$')

        return sol
    
    def a(self, n):
        # n = 3
        KK = self.K(3,self.M,self.R)
        # print(KK)
        rho_c = self.rho_c_rho_mean(3.0)*self.den_ave
        
        sol = ((n+1)*KK/(4*np.pi*self.G))**(0.5)*rho_c**((1-n)/(2*n))
        return sol
        
    def mass(self, n):
        xi, theta = self.SOLVE(n)
        # integrand = 3*xi**2*theta**n
        integrand = xi**2*theta**n
        M = trapezoid(integrand, xi)
        return M
    
    def mass_alter(self, n):
        xi, theta = self.SOLVE(n)
        # m = -3*xi[-1]**2*(theta[-1]-theta[-2])/(xi[-1]-xi[-2])
        m = -xi[-1]**2*(theta[-1]-theta[-2])/(xi[-1]-xi[-2])
        return m
    

    
    def rho_c_rho_mean(self, n):
        xi, theta = self.SOLVE(n)
        # m = -(xi[-1]/3)/(theta[-1]-theta[-2])/(xi[-1]-xi[-2])
        m = -xi[-1]/(3*((theta[-1]-theta[-2])/(xi[-1]-xi[-2])))
        return m
    
    def omega(self, n):
        xi, theta = self.SOLVE(n)
        om_n = -xi[-1]**((n+1)/(n-1))*((theta[-1]-theta[-2])/(xi[-1]-xi[-2]))
        return np.round(om_n,7)

    def N_n(self, n):
        return np.round((4*np.pi/self.omega(n)**(n-1))**(1/n)/(n+1),7)
    
    def M_R(self, n):
        xi, _ = self.SOLVE(n)
        # return [xi,xi[:]**((n-3)/(n-1))/N_n(n)**(n/(n-1))]
        return xi[-1]**((n-3)/(n-1))/self.N_n(n)**(n/(n-1))
    
    def W_n(self, n):
        xi, theta = self.SOLVE(n)
        aa = ((theta[-1]-theta[-2])/(xi[-1]-xi[-2]))**2
        return 1/(4*np.pi*(n+1)*aa)
    
    def mass_radius_norm(self, n):
        xi, theta = self.SOLVE(n)

        # integrand = 3*xi**2*theta**n
        integrand = xi**2*theta**n
        M = []
        for ind,value in enumerate(xi):
            M.append(trapezoid(integrand[:ind], xi[:ind]))
        result = [xi/np.max(xi),M/np.max(M)]
        return result


    ## #NOTE: these functions depend on the given mass and radius etc.

    def K(self, n, M, R):
        return self.N_n(n)*self.G*M**((n-1)/n)*R**((3-n)/n)
    
    def P_c(self, n, M, R, den_ave):
        den_c = self.rho_c_rho_mean(3.0)*den_ave
        return self.K(n,M,R)*den_c**((n+1)/n)
    
    def pressure(self, norm=True):
        n = 3
        xi, theta = self.SOLVE(3)
        xi = xi*self.a(n=3)
        pres = self.K(n,self.M,self.R)*(self.rho_c_rho_mean(n)*self.den_ave)**(1+1/n)*theta**(n+1)
        if norm == True:
            pres = pres/np.max(pres)
            xi = xi/np.max(xi)

        sol = [xi, pres]
        return sol
    
    def rho(self, norm=True):
        n = 3
        xi, theta = self.SOLVE(3)
        xi = xi*self.a(n=3)
        rhoo = self.rho_c_rho_mean(3.0)*self.den_ave*theta**n
        if norm == True:
            rhoo = rhoo/np.max(rhoo)
            xi = xi/np.max(xi)

        sol = [xi, rhoo]
        return sol
    
    def Tem(self, norm=False):
        pres = self.pressure(norm=False)
        rh = self.rho(norm=False)
        TT = pres[1]*0.62/(self.R_gas*rh[1])
        if norm == True:
            TT = TT/np.max(TT)
            pres[0] = pres[0]/np.max(pres[0])

        sol = [pres[0], TT]
        return sol

    def M_r(self, norm=True):
        n = 3
        KK = self.K(3,self.M,self.R)
        # print(KK)
        xi, theta = self.SOLVE(n)
        MM = []
        MM.append(0)
        for i in range(len(xi)-1):
            MM.append(-4*np.pi*((n+1)*KK/(4*np.pi*self.G))**(1.5)*xi[i]**2*(theta[i+1]-theta[i])/(xi[i+1]-xi[i]))
        xi = xi*self.a(n=3)
        if norm == True:
            MM = MM/np.max(MM)
            xi = xi/np.max(xi)
        sol = [xi,MM]
        return sol

    def acce_grav(self, norm=True):
        MM = self.M_r(norm=False)
        gg = MM[1]/(MM[0])**2*self.G
        if norm == True:
            gg = gg/np.max(gg)
            MM[0] = MM[0]/np.max(MM[0])
        sol = [MM[0],gg]
        return sol

    def N2(self):
        n = 3
        gamma = 1.66
        KK = self.K(3,self.M,self.R)
        rh = self.rho(norm=False)
        rh = np.array(rh[1])
        # pres = self.pressure(norm=False)
        gg = self.acce_grav(norm=False)
        rr = gg[0]*self.a(n=3)
        gg = np.array(gg[1])
        # xi, theta = LE.SOLVE(n)
        # dtheta_dr = []
        # dtheta_dr.append(0)
        # for i in range(len(xi)-1):
        #     dtheta_dr.append((theta[i+1]-theta[i])/(xi[i+1]-xi[i]))
        # return -(n-(n+1)/gamma)*gg/z
        # return (gg*rh/(pres[1])*(-1/gamma)+n*gg/(rh**(1/n)*(n+1)*KK))*gg
        sol = [rr,gg**2/(KK*rh**(1/n))*(n/(n+1)-1/gamma)]
        return sol

    pass
